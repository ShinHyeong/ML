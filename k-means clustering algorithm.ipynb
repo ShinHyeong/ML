{
 "cells": [
  {
   "cell_type": "code",
   "execution_count": 1,
   "metadata": {},
   "outputs": [],
   "source": [
    "import numpy as np\n",
    "import pandas as pd"
   ]
  },
  {
   "cell_type": "markdown",
   "metadata": {},
   "source": [
    "# import file"
   ]
  },
  {
   "cell_type": "code",
   "execution_count": 11,
   "metadata": {},
   "outputs": [
    {
     "name": "stdout",
     "output_type": "stream",
     "text": [
      "input할 파일의 주소를 입력하시오 : C:\\Temp\\inputVectors10000.txt\n"
     ]
    }
   ],
   "source": [
    "###[input1] file of 5-vectors ###\n",
    "fileAdr = input(\"input할 파일의 주소를 입력하시오 : \")"
   ]
  },
  {
   "cell_type": "code",
   "execution_count": 114,
   "metadata": {},
   "outputs": [],
   "source": [
    "file = pd.read_csv(fileAdr, encoding=\"utf-8\", sep=' ', header=None) "
   ]
  },
  {
   "cell_type": "markdown",
   "metadata": {},
   "source": [
    "# Data Preprocessing"
   ]
  },
  {
   "cell_type": "code",
   "execution_count": 115,
   "metadata": {},
   "outputs": [],
   "source": [
    "file = file[[0, 1, 2, 3, 4]] #5-vectors외의 값은 모두 삭제\n",
    "file = file.to_numpy() #dataframe to numpy.ndarray"
   ]
  },
  {
   "cell_type": "markdown",
   "metadata": {},
   "source": [
    "# k-means Algorithm"
   ]
  },
  {
   "cell_type": "code",
   "execution_count": 116,
   "metadata": {},
   "outputs": [
    {
     "name": "stdout",
     "output_type": "stream",
     "text": [
      "몇 개의 cluster로 clustering할 건가요? : 3\n",
      "몇 번 iteration(반복)할 건가요? : 10\n"
     ]
    }
   ],
   "source": [
    "###[input2] cluster갯수(k) ###\n",
    "k = int(input(\"몇 개의 cluster로 clustering할 건가요? : \"))\n",
    "###[input3] the maximum number of iterations ###\n",
    "iter_max = int(input(\"몇 번 iteration(반복)할 건가요? : \"))"
   ]
  },
  {
   "cell_type": "code",
   "execution_count": 117,
   "metadata": {},
   "outputs": [],
   "source": [
    "#5차원에서 두 점 a,b 사이의 거리를 구하는 함수 (L5-Norm)\n",
    "def distance(a, b):\n",
    "  return sum([abs(a_col - b_col)**5  for a_col, b_col in list(zip(a, b))]) ** 0.2"
   ]
  },
  {
   "cell_type": "code",
   "execution_count": 120,
   "metadata": {},
   "outputs": [],
   "source": [
    "#1. initial list of k group representative vectors (cntrds[0],..,cntrds[k-1])\n",
    "#랜덤으로 좌표(cntrds_1, cntrds_2, cntrds_3, cntrds_4, cntrds_5) k개 생성\n",
    "cntrds_1= np.random.uniform(min(file[:,0]), max(file[:,0]), k)\n",
    "cntrds_2= np.random.uniform(min(file[:,1]), max(file[:,1]), k)\n",
    "cntrds_3= np.random.uniform(min(file[:,2]), max(file[:,2]), k)\n",
    "cntrds_4= np.random.uniform(min(file[:,3]), max(file[:,3]), k)\n",
    "cntrds_5= np.random.uniform(min(file[:,4]), max(file[:,4]), k)\n",
    "cntrds = list(zip(cntrds_1, cntrds_2, cntrds_3, cntrds_4, cntrds_5))\n",
    "\n",
    "df_cntrds = pd.DataFrame(cntrds)\n",
    "cntrds = df_cntrds.to_numpy() #dataframe to numpy.ndarray\n",
    "\n",
    "#2. 각 데이터가 속한 그룹index(0~k-1)를 element로 가지는 벡터 labels를 0으로 초기화\n",
    "labels = np.zeros(file.shape[0])\n",
    "\n",
    "###iteration 시작###\n",
    "for iter in range(iter_max+1):\n",
    "\n",
    "    ### Partitioning the 5-vectors into k groups ###\n",
    "    #3. data.column에 \"labels\"를 추가하기 위해서 for루프를 돌음\n",
    "    for i in range(file.shape[0]):\n",
    "    #해당 데이터로부터 각 group representative vector의 거리를 element로 가지는 벡터 distances를 0으로 초기화\n",
    "        distances = np.zeros(k)\n",
    "        for n in range(k):\n",
    "            distances[n] = distance(file[i], cntrds[n])\n",
    "            #cluster에 벡터 distances의 element 중 가장 작은 값의 index를 저장\n",
    "            #즉, cluster는 각 데이터와 가장 가까운 group representative vector의 index\n",
    "            cluster = np.argmin(distances) \n",
    "            #labal[i]에는 0~k-1 중 하나가 들어가게 됨\n",
    "            labels[i] = int(cluster)\n",
    "\n",
    "    ### Update representatives ###        \n",
    "    #각 그룹별 해당하는 벡터들을 알기위해서 for루프를 돌음\n",
    "    for n in range(k):\n",
    "        points= [file[i] for i in range(file.shape[0]) if n==labels[i]] #k group representative vectors의 index와 각 데이터의 clust가 일치하는 데이터 추출\n",
    "        df_points = pd.DataFrame(points)\n",
    "        if df_points.empty==True: #해당 그룹에 속하는 데이터가 아예 없을 경우 pass\n",
    "            pass\n",
    "        else:\n",
    "            points = df_points.to_numpy() #list로 저장된, 해당 그룹의 points를 array로 변환\n",
    "            cntrds[n] = np.mean(points, axis=0) #update representatives : 기존 group representative vector을 해당 그룹의 points의 평균으로 변경"
   ]
  },
  {
   "cell_type": "markdown",
   "metadata": {},
   "source": [
    "# Outputs"
   ]
  },
  {
   "cell_type": "code",
   "execution_count": 121,
   "metadata": {},
   "outputs": [
    {
     "name": "stdout",
     "output_type": "stream",
     "text": [
      "# of actual iterations : 10\n",
      "centroids : (451.8332829960737, 332.0830564784053, 630.1470854726668, 310.51102385986104, 452.79915433403806),(632.920986969781, 488.157471583033, 517.6171333518159, 677.6329359578597, 657.6673135569725),(409.06359506813754, 694.744970798183, 337.6375730045425, 504.7767683322518, 354.0892277741726)\n"
     ]
    }
   ],
   "source": [
    "###[output1] the centroids of each cluster ###\n",
    "print(\"# of actual iterations : %d\"%iter_max)\n",
    "print(\"centroids : \", end='')\n",
    "for n in range(k-1):\n",
    "    print(tuple(cntrds[n]), end=\",\")\n",
    "print(tuple(cntrds[k-1]))"
   ]
  },
  {
   "cell_type": "code",
   "execution_count": 122,
   "metadata": {},
   "outputs": [
    {
     "name": "stdout",
     "output_type": "stream",
     "text": [
      "# of vectors for cluster 1 =  3311\n",
      "# of vectors for cluster 2 =  3607\n",
      "# of vectors for cluster 3 =  3082\n"
     ]
    }
   ],
   "source": [
    "###[output2] # of vectors in each cluster ###\n",
    "for n in range(k):\n",
    "    points= [file[i] for i in range(file.shape[0]) if n==labels[i]] #k group representative vectors의 index와 각 데이터의 clust가 일치하는 데이터 추출\n",
    "    df_points = pd.DataFrame(points)\n",
    "    if df_points.empty==True: #해당 그룹에 속하는 데이터가 아예 없을 경우 pass\n",
    "        print(\"# of vectors for cluster %d = \"%(n+1), 0)\n",
    "    else:\n",
    "        points = df_points.to_numpy() #list로 저장된, 해당 그룹의 points를 array로 변환\n",
    "        print(\"# of vectors for cluster %d = \"%(n+1), len(points))"
   ]
  }
 ],
 "metadata": {
  "kernelspec": {
   "display_name": "Python 3",
   "language": "python",
   "name": "python3"
  },
  "language_info": {
   "codemirror_mode": {
    "name": "ipython",
    "version": 3
   },
   "file_extension": ".py",
   "mimetype": "text/x-python",
   "name": "python",
   "nbconvert_exporter": "python",
   "pygments_lexer": "ipython3",
   "version": "3.7.6"
  }
 },
 "nbformat": 4,
 "nbformat_minor": 4
}
